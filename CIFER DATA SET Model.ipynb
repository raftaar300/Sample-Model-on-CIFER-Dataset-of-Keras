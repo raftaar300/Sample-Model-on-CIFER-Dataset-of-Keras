{
 "cells": [
  {
   "cell_type": "code",
   "execution_count": 1,
   "metadata": {},
   "outputs": [],
   "source": [
    "import tensorflow as tf"
   ]
  },
  {
   "cell_type": "code",
   "execution_count": 3,
   "metadata": {},
   "outputs": [],
   "source": [
    "from tensorflow import keras"
   ]
  },
  {
   "cell_type": "code",
   "execution_count": 7,
   "metadata": {},
   "outputs": [],
   "source": [
    "from keras import models\n",
    "from keras.datasets import cifar10\n",
    "from keras import layers"
   ]
  },
  {
   "cell_type": "code",
   "execution_count": 8,
   "metadata": {},
   "outputs": [
    {
     "name": "stdout",
     "output_type": "stream",
     "text": [
      "Downloading data from https://www.cs.toronto.edu/~kriz/cifar-10-python.tar.gz\n",
      "170500096/170498071 [==============================] - 90s 1us/step\n"
     ]
    }
   ],
   "source": [
    "(x_train , y_train) , (x_test,y_test) = cifar10.load_data()"
   ]
  },
  {
   "cell_type": "code",
   "execution_count": 13,
   "metadata": {},
   "outputs": [],
   "source": [
    "\n",
    "from keras.models import Sequential\n",
    "model = Sequential()\n",
    "model.add(keras.Input(shape = (32,32,3)))\n",
    "model.add(layers.Conv2D(32,3,padding = 'same' , activation = 'relu'))\n",
    "model.add(layers.MaxPooling2D(pool_size = (2,2)))\n",
    "model.add(layers.Conv2D(64,3,padding = 'same' , activation = 'relu'))\n",
    "model.add(layers.MaxPooling2D())\n",
    "model.add(layers.Conv2D(128,3,padding = 'same' , activation = 'relu'))\n",
    "model.add(layers.Flatten())\n",
    "model.add(layers.Dense(64, activation = 'relu'))\n",
    "model.add(layers.Dense(10))"
   ]
  },
  {
   "cell_type": "code",
   "execution_count": 14,
   "metadata": {},
   "outputs": [
    {
     "name": "stdout",
     "output_type": "stream",
     "text": [
      "Model: \"sequential_2\"\n",
      "_________________________________________________________________\n",
      "Layer (type)                 Output Shape              Param #   \n",
      "=================================================================\n",
      "conv2d_1 (Conv2D)            (None, 32, 32, 32)        896       \n",
      "_________________________________________________________________\n",
      "max_pooling2d (MaxPooling2D) (None, 16, 16, 32)        0         \n",
      "_________________________________________________________________\n",
      "conv2d_2 (Conv2D)            (None, 16, 16, 64)        18496     \n",
      "_________________________________________________________________\n",
      "max_pooling2d_1 (MaxPooling2 (None, 8, 8, 64)          0         \n",
      "_________________________________________________________________\n",
      "conv2d_3 (Conv2D)            (None, 8, 8, 128)         73856     \n",
      "_________________________________________________________________\n",
      "flatten (Flatten)            (None, 8192)              0         \n",
      "_________________________________________________________________\n",
      "dense (Dense)                (None, 64)                524352    \n",
      "_________________________________________________________________\n",
      "dense_1 (Dense)              (None, 10)                650       \n",
      "=================================================================\n",
      "Total params: 618,250\n",
      "Trainable params: 618,250\n",
      "Non-trainable params: 0\n",
      "_________________________________________________________________\n"
     ]
    }
   ],
   "source": [
    "model.summary()"
   ]
  },
  {
   "cell_type": "code",
   "execution_count": 15,
   "metadata": {},
   "outputs": [],
   "source": [
    "model.compile(\n",
    "loss = keras.losses.SparseCategoricalCrossentropy(from_logits= True),\n",
    "optimizer = keras.optimizers.Adam(lr = 0.001), \n",
    "metrics = ['accuracy']  \n",
    ")"
   ]
  },
  {
   "cell_type": "code",
   "execution_count": 18,
   "metadata": {},
   "outputs": [
    {
     "name": "stdout",
     "output_type": "stream",
     "text": [
      "Epoch 1/10\n",
      "1563/1563 - 71s - loss: 0.8510 - accuracy: 0.7038\n",
      "Epoch 2/10\n",
      "1563/1563 - 71s - loss: 0.7503 - accuracy: 0.7381\n",
      "Epoch 3/10\n",
      "1563/1563 - 71s - loss: 0.6788 - accuracy: 0.7606\n",
      "Epoch 4/10\n",
      "1563/1563 - 71s - loss: 0.6000 - accuracy: 0.7903\n",
      "Epoch 5/10\n",
      "1563/1563 - 72s - loss: 0.5346 - accuracy: 0.8137\n",
      "Epoch 6/10\n",
      "1563/1563 - 71s - loss: 0.4812 - accuracy: 0.8318\n",
      "Epoch 7/10\n",
      "1563/1563 - 72s - loss: 0.4294 - accuracy: 0.8502\n",
      "Epoch 8/10\n",
      "1563/1563 - 72s - loss: 0.4030 - accuracy: 0.8595\n",
      "Epoch 9/10\n",
      "1563/1563 - 72s - loss: 0.3674 - accuracy: 0.8716\n",
      "Epoch 10/10\n",
      "1563/1563 - 72s - loss: 0.3342 - accuracy: 0.8857\n"
     ]
    },
    {
     "data": {
      "text/plain": [
       "<tensorflow.python.keras.callbacks.History at 0x194d8438f40>"
      ]
     },
     "execution_count": 18,
     "metadata": {},
     "output_type": "execute_result"
    }
   ],
   "source": [
    "model.fit(x_train,y_train, batch_size= 32 , epochs= 10, verbose = 2)"
   ]
  },
  {
   "cell_type": "code",
   "execution_count": 19,
   "metadata": {},
   "outputs": [
    {
     "name": "stdout",
     "output_type": "stream",
     "text": [
      "313/313 - 4s - loss: 1.5713 - accuracy: 0.6558\n"
     ]
    },
    {
     "data": {
      "text/plain": [
       "[1.571307897567749, 0.6557999849319458]"
      ]
     },
     "execution_count": 19,
     "metadata": {},
     "output_type": "execute_result"
    }
   ],
   "source": [
    "model.evaluate(x_test,y_test,batch_size = 32 , verbose = 2)"
   ]
  },
  {
   "cell_type": "code",
   "execution_count": null,
   "metadata": {},
   "outputs": [],
   "source": []
  }
 ],
 "metadata": {
  "kernelspec": {
   "display_name": "Python 3",
   "language": "python",
   "name": "python3"
  },
  "language_info": {
   "codemirror_mode": {
    "name": "ipython",
    "version": 3
   },
   "file_extension": ".py",
   "mimetype": "text/x-python",
   "name": "python",
   "nbconvert_exporter": "python",
   "pygments_lexer": "ipython3",
   "version": "3.8.5"
  }
 },
 "nbformat": 4,
 "nbformat_minor": 4
}
